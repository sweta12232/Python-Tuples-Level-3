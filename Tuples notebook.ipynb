{
 "cells": [
  {
   "cell_type": "markdown",
   "id": "4a73f883",
   "metadata": {},
   "source": [
    "\n",
    "# Tuples\n"
   ]
  },
  {
   "cell_type": "markdown",
   "id": "a54546f2",
   "metadata": {},
   "source": [
    "\n",
    "* Tuples are denoted by parentheses ( ).\n",
    "\n"
   ]
  },
  {
   "cell_type": "markdown",
   "id": "e5ce90c6",
   "metadata": {},
   "source": [
    "* Like lists, tuples can contain items of different data types, such as integers, strings, or even other tuples.\n"
   ]
  },
  {
   "cell_type": "markdown",
   "id": "33d8086a",
   "metadata": {},
   "source": [
    "\n",
    "* Tuples are immutable, meaning once created, their elements cannot be changed, added, or removed."
   ]
  },
  {
   "cell_type": "markdown",
   "id": "72374c03",
   "metadata": {},
   "source": [
    "* You can access elements in a tuple using indexing, starting from 0 for the first element.\n",
    "\n"
   ]
  },
  {
   "cell_type": "markdown",
   "id": "db1c32fd",
   "metadata": {},
   "source": [
    "* Tuples support various operations such as slicing, concatenation, and repetition.\n",
    "\n"
   ]
  },
  {
   "cell_type": "markdown",
   "id": "5148ee7d",
   "metadata": {},
   "source": [
    "* They are commonly used for representing fixed collections of items, such as coordinates or database records.\n",
    "\n"
   ]
  },
  {
   "cell_type": "markdown",
   "id": "f6528de5",
   "metadata": {},
   "source": [
    "* Tuples are often used in situations where immutability and integrity of data are desired.\n",
    "\n"
   ]
  },
  {
   "cell_type": "markdown",
   "id": "20291874",
   "metadata": {},
   "source": [
    "* Tuples are iterable, allowing you to loop through their elements using loops like for or tuple unpacking.\n",
    "\n"
   ]
  },
  {
   "cell_type": "markdown",
   "id": "f2e554fc",
   "metadata": {},
   "source": [
    "* Although tuples are immutable, they can contain mutable objects like lists, meaning you can modify the elements within a mutable object contained in a tuple, but you can't modify the tuple itself."
   ]
  },
  {
   "cell_type": "markdown",
   "id": "b49bfb36",
   "metadata": {},
   "source": [
    "## Let's Start"
   ]
  },
  {
   "cell_type": "code",
   "execution_count": 1,
   "id": "5137e3a1",
   "metadata": {},
   "outputs": [
    {
     "name": "stdout",
     "output_type": "stream",
     "text": [
      "(1, 'sweta', 'bishnu', 2)\n"
     ]
    }
   ],
   "source": [
    "tuples = (1, \"sweta\", \"bishnu\", 2)\n",
    "print(tuples)"
   ]
  },
  {
   "cell_type": "markdown",
   "id": "f7d5267a",
   "metadata": {},
   "source": [
    "## Tuples also allow duplicate"
   ]
  },
  {
   "cell_type": "code",
   "execution_count": 5,
   "id": "6319a4ce",
   "metadata": {},
   "outputs": [
    {
     "name": "stdout",
     "output_type": "stream",
     "text": [
      "(1, 'sweta', 'bishnu', 2, 2, 2)\n"
     ]
    }
   ],
   "source": [
    "tuples = (1, \"sweta\", \"bishnu\", 2, 2, 2)\n",
    "print(tuples)"
   ]
  },
  {
   "cell_type": "markdown",
   "id": "d3f4ea32",
   "metadata": {},
   "source": [
    "## Length of the tuples"
   ]
  },
  {
   "cell_type": "code",
   "execution_count": 6,
   "id": "c82229d9",
   "metadata": {},
   "outputs": [
    {
     "name": "stdout",
     "output_type": "stream",
     "text": [
      "6\n"
     ]
    }
   ],
   "source": [
    "tuples = (1, \"sweta\", \"bishnu\", 2, 2, 2)\n",
    "print(len(tuples))"
   ]
  },
  {
   "cell_type": "markdown",
   "id": "6dc8ff10",
   "metadata": {},
   "source": [
    "For one item in tuples we should keep comma\n"
   ]
  },
  {
   "cell_type": "code",
   "execution_count": 7,
   "id": "0a0b43ed",
   "metadata": {},
   "outputs": [
    {
     "name": "stdout",
     "output_type": "stream",
     "text": [
      "<class 'tuple'>\n"
     ]
    }
   ],
   "source": [
    "tuples = (\"is_tuples\",)\n",
    "print(type(tuples))"
   ]
  },
  {
   "cell_type": "code",
   "execution_count": 8,
   "id": "c8a0da91",
   "metadata": {},
   "outputs": [
    {
     "name": "stdout",
     "output_type": "stream",
     "text": [
      "<class 'str'>\n"
     ]
    }
   ],
   "source": [
    "tuples = (\"not_tuples\")\n",
    "print(type(tuples))"
   ]
  },
  {
   "cell_type": "markdown",
   "id": "e7f0775b",
   "metadata": {},
   "source": [
    "## typecasting tuple "
   ]
  },
  {
   "cell_type": "code",
   "execution_count": 9,
   "id": "a81341f9",
   "metadata": {},
   "outputs": [
    {
     "name": "stdout",
     "output_type": "stream",
     "text": [
      "(1, 'ishu', 'nunu', 11.34)\n"
     ]
    }
   ],
   "source": [
    "list = [1,\"ishu\", \"nunu\" , 11.34]\n",
    "print(tuple(list))\n"
   ]
  },
  {
   "cell_type": "markdown",
   "id": "b1b2b445",
   "metadata": {},
   "source": [
    "## Accessing the elements in the tuples \n",
    "\n",
    "[start:stop:step]"
   ]
  },
  {
   "cell_type": "code",
   "execution_count": 14,
   "id": "218a1264",
   "metadata": {},
   "outputs": [
    {
     "name": "stdout",
     "output_type": "stream",
     "text": [
      "1\n"
     ]
    }
   ],
   "source": [
    "tuples = (1,\"ishu\", \"nunu\" , 11.34)\n",
    "print(tuples[0]) "
   ]
  },
  {
   "cell_type": "code",
   "execution_count": 15,
   "id": "670d308a",
   "metadata": {},
   "outputs": [
    {
     "name": "stdout",
     "output_type": "stream",
     "text": [
      "11.34\n"
     ]
    }
   ],
   "source": [
    "tuples = (1,\"ishu\", \"nunu\" , 11.34)\n",
    "print(tuples[-1])"
   ]
  },
  {
   "cell_type": "code",
   "execution_count": 18,
   "id": "69ad64c1",
   "metadata": {},
   "outputs": [
    {
     "name": "stdout",
     "output_type": "stream",
     "text": [
      "('nunu', 11.34)\n"
     ]
    }
   ],
   "source": [
    "tuples = (1,\"ishu\", \"nunu\" , 11.34, \"sweta\", \"bishnu\" , \"suraj\", \"sopu\")\n",
    "print(tuples[2:4])"
   ]
  },
  {
   "cell_type": "code",
   "execution_count": 20,
   "id": "cfffefa4",
   "metadata": {},
   "outputs": [
    {
     "name": "stdout",
     "output_type": "stream",
     "text": [
      "(1, 'ishu')\n"
     ]
    }
   ],
   "source": [
    "tuples = (1,\"ishu\", \"nunu\" , 11.34, \"sweta\", \"bishnu\" , \"suraj\", \"sopu\")\n",
    "print(tuples[:2])"
   ]
  },
  {
   "cell_type": "code",
   "execution_count": 21,
   "id": "8182acdb",
   "metadata": {},
   "outputs": [
    {
     "name": "stdout",
     "output_type": "stream",
     "text": [
      "('nunu', 11.34, 'sweta', 'bishnu', 'suraj', 'sopu')\n"
     ]
    }
   ],
   "source": [
    "tuples = (1,\"ishu\", \"nunu\" , 11.34, \"sweta\", \"bishnu\" , \"suraj\", \"sopu\")\n",
    "print(tuples[2:])"
   ]
  },
  {
   "cell_type": "code",
   "execution_count": 22,
   "id": "9794c9da",
   "metadata": {},
   "outputs": [
    {
     "name": "stdout",
     "output_type": "stream",
     "text": [
      "(1, 'nunu', 'sweta', 'suraj')\n"
     ]
    }
   ],
   "source": [
    "tuples = (1,\"ishu\", \"nunu\" , 11.34, \"sweta\", \"bishnu\" , \"suraj\", \"sopu\")\n",
    "print(tuples[::2]) "
   ]
  },
  {
   "cell_type": "code",
   "execution_count": 23,
   "id": "3076653a",
   "metadata": {},
   "outputs": [
    {
     "name": "stdout",
     "output_type": "stream",
     "text": [
      "('nunu', 11.34, 'sweta', 'bishnu', 'suraj', 'sopu')\n"
     ]
    }
   ],
   "source": [
    "tuples = (1,\"ishu\", \"nunu\" , 11.34, \"sweta\", \"bishnu\" , \"suraj\", \"sopu\")\n",
    "print(tuples[2::])"
   ]
  },
  {
   "cell_type": "code",
   "execution_count": 24,
   "id": "b32c9f54",
   "metadata": {},
   "outputs": [
    {
     "name": "stdout",
     "output_type": "stream",
     "text": [
      "('sweta', 'bishnu', 'suraj')\n"
     ]
    }
   ],
   "source": [
    "tuples = (1,\"ishu\", \"nunu\" , 11.34, \"sweta\", \"bishnu\" , \"suraj\", \"sopu\")\n",
    "print(tuples[-4:-1])"
   ]
  },
  {
   "cell_type": "markdown",
   "id": "d53fff06",
   "metadata": {},
   "source": [
    "USING if case\n"
   ]
  },
  {
   "cell_type": "code",
   "execution_count": 2,
   "id": "a3323638",
   "metadata": {},
   "outputs": [
    {
     "name": "stdout",
     "output_type": "stream",
     "text": [
      "Hello Ishu!\n"
     ]
    }
   ],
   "source": [
    "tuples = (1,\"ishu\", \"nunu\" , 11.34, \"sweta\", \"bishnu\" , \"suraj\", \"sopu\")\n",
    "if \"ishu\" in tuples:\n",
    "    print(\"Hello Ishu!\")"
   ]
  },
  {
   "cell_type": "markdown",
   "id": "c701a85d",
   "metadata": {},
   "source": [
    "## Updating Element in the list"
   ]
  },
  {
   "cell_type": "code",
   "execution_count": 1,
   "id": "4b61ac71",
   "metadata": {},
   "outputs": [
    {
     "name": "stdout",
     "output_type": "stream",
     "text": [
      "['Z', 'B', 'C', 'D', 'E']\n"
     ]
    }
   ],
   "source": [
    "tuples = (\"A\", \"B\", \"C\", \"D\", \"E\")\n",
    "#first of all to update we have\n",
    "lists = list(tuples)\n",
    "lists[0] = \"Z\"\n",
    "print(lists)"
   ]
  },
  {
   "cell_type": "code",
   "execution_count": 4,
   "id": "f98381d7",
   "metadata": {},
   "outputs": [
    {
     "name": "stdout",
     "output_type": "stream",
     "text": [
      "['A', 'B', 'C', 'D', 'E', 'Apple']\n"
     ]
    }
   ],
   "source": [
    "tuples = (\"A\", \"B\", \"C\", \"D\", \"E\")\n",
    "#first of all to update we have\n",
    "lists = list(tuples)\n",
    "lists.append(\"Apple\")\n",
    "print(lists)"
   ]
  },
  {
   "cell_type": "code",
   "execution_count": 11,
   "id": "af353ab2",
   "metadata": {},
   "outputs": [
    {
     "name": "stdout",
     "output_type": "stream",
     "text": [
      "('A', 'B', 'C', 'D', 'E', 'F', 'G', 'H')\n"
     ]
    }
   ],
   "source": [
    "tuples = (\"A\", \"B\", \"C\", \"D\", \"E\")\n",
    "newtuples = (\"F\", \"G\", \"H\")\n",
    "tuples += newtuples\n",
    "print(tuples)"
   ]
  },
  {
   "cell_type": "markdown",
   "id": "6e50ff76",
   "metadata": {},
   "source": [
    "## Removing element from the tuple\n"
   ]
  },
  {
   "cell_type": "code",
   "execution_count": 8,
   "id": "b3b81a96",
   "metadata": {},
   "outputs": [
    {
     "ename": "NameError",
     "evalue": "name 'lists' is not defined",
     "output_type": "error",
     "traceback": [
      "\u001b[1;31m---------------------------------------------------------------------------\u001b[0m",
      "\u001b[1;31mNameError\u001b[0m                                 Traceback (most recent call last)",
      "Input \u001b[1;32mIn [8]\u001b[0m, in \u001b[0;36m<cell line: 5>\u001b[1;34m()\u001b[0m\n\u001b[0;32m      3\u001b[0m lists \u001b[38;5;241m=\u001b[39m \u001b[38;5;28mlist\u001b[39m(tuples)\n\u001b[0;32m      4\u001b[0m \u001b[38;5;28;01mdel\u001b[39;00m lists\n\u001b[1;32m----> 5\u001b[0m \u001b[38;5;28mprint\u001b[39m(\u001b[43mlists\u001b[49m)\n",
      "\u001b[1;31mNameError\u001b[0m: name 'lists' is not defined"
     ]
    }
   ],
   "source": [
    "tuples = (\"A\", \"B\", \"C\", \"D\", \"E\")\n",
    "#first of all to update we have\n",
    "lists = list(tuples)\n",
    "del lists\n",
    "print(lists)"
   ]
  },
  {
   "cell_type": "code",
   "execution_count": 16,
   "id": "a3d190ea",
   "metadata": {},
   "outputs": [
    {
     "name": "stdout",
     "output_type": "stream",
     "text": [
      "('blue', 'black')\n"
     ]
    }
   ],
   "source": [
    "tuples = (\"yellow\", \"blue\", \"black\")\n",
    "y = list(tuples)\n",
    "y.remove(\"yellow\")\n",
    "tuples = tuple(y)\n",
    "print(tuples)"
   ]
  },
  {
   "cell_type": "markdown",
   "id": "9dce10a1",
   "metadata": {},
   "source": [
    "\n",
    "* Packing tuples\n",
    "* Unpacking Tuple"
   ]
  },
  {
   "cell_type": "code",
   "execution_count": 18,
   "id": "1151d59a",
   "metadata": {},
   "outputs": [
    {
     "name": "stdout",
     "output_type": "stream",
     "text": [
      "('yellow', 'blue', 'black')\n"
     ]
    }
   ],
   "source": [
    "#packing tuples which means assignning value to tuples\n",
    "tuples = (\"yellow\", \"blue\", \"black\")\n",
    "print(tuples)"
   ]
  },
  {
   "cell_type": "code",
   "execution_count": 27,
   "id": "aba06b6f",
   "metadata": {},
   "outputs": [
    {
     "name": "stdout",
     "output_type": "stream",
     "text": [
      "New Zealand\n"
     ]
    }
   ],
   "source": [
    "#unpacking tuples, which means extracting values of tuples\n",
    "Countries = (\"Nepal\", \"USA\", \"Germany\", \"India\", \"New Zealand\")\n",
    "(coun1, coun2, coun3, coun4, coun5) = Countries\n",
    "coun1\n",
    "print(coun5)"
   ]
  },
  {
   "cell_type": "markdown",
   "id": "d5814081",
   "metadata": {},
   "source": [
    "Using Asterisk"
   ]
  },
  {
   "cell_type": "code",
   "execution_count": 24,
   "id": "a7aba778",
   "metadata": {},
   "outputs": [
    {
     "name": "stdout",
     "output_type": "stream",
     "text": [
      "['Germany', 'India', 'New Zealand']\n"
     ]
    }
   ],
   "source": [
    "Countries = (\"Nepal\", \"USA\", \"Germany\", \"India\", \"New Zealand\")\n",
    "Countries = (\"Nepal\", \"USA\", \"Germany\", \"India\", \"New Zealand\")\n",
    "(coun1, coun2, *countr) = Countries # here asterick is used for assigning all the remaning values\n",
    "print(countr)"
   ]
  },
  {
   "cell_type": "code",
   "execution_count": 28,
   "id": "6fa88745",
   "metadata": {},
   "outputs": [
    {
     "name": "stdout",
     "output_type": "stream",
     "text": [
      "['USA', 'Germany', 'India']\n"
     ]
    }
   ],
   "source": [
    "Countries = (\"Nepal\", \"USA\", \"Germany\", \"India\", \"New Zealand\")\n",
    "\n",
    "(coun1, *coun2, countr) = Countries # here asterick is used for assigning values after coun1 to to remaing values, except last one\n",
    "print(coun2)"
   ]
  },
  {
   "cell_type": "markdown",
   "id": "173df266",
   "metadata": {},
   "source": [
    "joining the tuples"
   ]
  },
  {
   "cell_type": "code",
   "execution_count": 32,
   "id": "98edae0e",
   "metadata": {},
   "outputs": [
    {
     "name": "stdout",
     "output_type": "stream",
     "text": [
      "('Nepal', 'USA', 'Germany', 'India', 'New Zealand', 'London')\n"
     ]
    }
   ],
   "source": [
    "countries = (\"Nepal\", \"USA\", \"Germany\", \"India\", \"New Zealand\")\n",
    "add = (\"London\",)\n",
    "newtuple = countries + add\n",
    "print(newtuple)"
   ]
  },
  {
   "cell_type": "markdown",
   "id": "d8a1bf87",
   "metadata": {},
   "source": [
    "## count function"
   ]
  },
  {
   "cell_type": "code",
   "execution_count": 33,
   "id": "63716d3f",
   "metadata": {},
   "outputs": [
    {
     "name": "stdout",
     "output_type": "stream",
     "text": [
      "1\n"
     ]
    }
   ],
   "source": [
    "countries = (\"Nepal\", \"USA\", \"Germany\", \"India\", \"New Zealand\")\n",
    "print(countries.count(\"Nepal\"))"
   ]
  },
  {
   "cell_type": "code",
   "execution_count": 35,
   "id": "058c0fe4",
   "metadata": {},
   "outputs": [
    {
     "name": "stdout",
     "output_type": "stream",
     "text": [
      "2\n"
     ]
    }
   ],
   "source": [
    "countries = (\"Nepal\", \"USA\", \"Germany\", \"India\", \"New Zealand\")\n",
    "lsit = list(countries)\n",
    "print(lsit.index(\"Germany\"))"
   ]
  },
  {
   "cell_type": "code",
   "execution_count": null,
   "id": "c77b2111",
   "metadata": {},
   "outputs": [],
   "source": []
  }
 ],
 "metadata": {
  "kernelspec": {
   "display_name": "Python 3 (ipykernel)",
   "language": "python",
   "name": "python3"
  },
  "language_info": {
   "codemirror_mode": {
    "name": "ipython",
    "version": 3
   },
   "file_extension": ".py",
   "mimetype": "text/x-python",
   "name": "python",
   "nbconvert_exporter": "python",
   "pygments_lexer": "ipython3",
   "version": "3.9.12"
  }
 },
 "nbformat": 4,
 "nbformat_minor": 5
}
